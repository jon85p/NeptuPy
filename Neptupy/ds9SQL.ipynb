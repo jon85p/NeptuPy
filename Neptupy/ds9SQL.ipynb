{
 "cells": [
  {
   "cell_type": "code",
   "execution_count": 1,
   "metadata": {
    "collapsed": true
   },
   "outputs": [],
   "source": [
    "import pyds9\n",
    "from nDatabase import searchDB, NR"
   ]
  },
  {
   "cell_type": "code",
   "execution_count": 2,
   "metadata": {
    "collapsed": true
   },
   "outputs": [],
   "source": [
    "MAX_instances = 30 # Para no petar la RAM :v"
   ]
  },
  {
   "cell_type": "markdown",
   "metadata": {},
   "source": [
    "Images call"
   ]
  },
  {
   "cell_type": "code",
   "execution_count": 3,
   "metadata": {
    "collapsed": false,
    "scrolled": true
   },
   "outputs": [
    {
     "data": {
      "text/plain": [
       "10"
      ]
     },
     "execution_count": 3,
     "metadata": {},
     "output_type": "execute_result"
    }
   ],
   "source": [
    "img_list = searchDB(target='N RINGS', expo_1=\"600\", typee='GEOMED')\n",
    "len(img_list)"
   ]
  },
  {
   "cell_type": "markdown",
   "metadata": {},
   "source": [
    "## DS9!"
   ]
  },
  {
   "cell_type": "code",
   "execution_count": 4,
   "metadata": {
    "collapsed": false
   },
   "outputs": [],
   "source": [
    "# sigma = \"5\" # 4 ó 5, sigma a usar para ver las marcas\n",
    "if len(img_list) < MAX_instances:\n",
    "    # Proceder a llamar instancia de DS9!\n",
    "    d = pyds9.DS9(\"NEPTUPY\")\n",
    "    for img in img_list:\n",
    "        d.set(\"file \" + img)\n",
    "        # reg = img[:-5] + \"_\" + sigma + \".reg\"\n",
    "        # d.set(\"region \" + reg)\n",
    "        d.set(\"frame new\")\n",
    "else:\n",
    "    print(\"ALERTA, seleccionar imágenes a ver en la línea 3 de este bloque; se superó la cantidad permitida para no petar la RAM por el DS9\")"
   ]
  },
  {
   "cell_type": "code",
   "execution_count": null,
   "metadata": {
    "collapsed": true
   },
   "outputs": [],
   "source": []
  },
  {
   "cell_type": "code",
   "execution_count": null,
   "metadata": {
    "collapsed": true
   },
   "outputs": [],
   "source": []
  }
 ],
 "metadata": {
  "kernelspec": {
   "display_name": "Python 3",
   "language": "python",
   "name": "python3"
  },
  "language_info": {
   "codemirror_mode": {
    "name": "ipython",
    "version": 3
   },
   "file_extension": ".py",
   "mimetype": "text/x-python",
   "name": "python",
   "nbconvert_exporter": "python",
   "pygments_lexer": "ipython3",
   "version": "3.4.6"
  }
 },
 "nbformat": 4,
 "nbformat_minor": 0
}
